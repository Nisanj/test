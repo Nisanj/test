{
 "cells": [
  {
   "cell_type": "code",
   "execution_count": 8,
   "metadata": {},
   "outputs": [
    {
     "name": "stdout",
     "output_type": "stream",
     "text": [
      "Best Score: 0.8302521008403363\n",
      "Best Hyperparameters: {'C': 6.093249806997543, 'penalty': 'l2', 'solver': 'liblinear'}\n"
     ]
    },
    {
     "name": "stderr",
     "output_type": "stream",
     "text": [
      "/home/nisarga/anaconda3/lib/python3.8/site-packages/sklearn/model_selection/_search.py:922: UserWarning: One or more of the test scores are non-finite: [0.82857143        nan 0.81820728        nan 0.80168067 0.81036415\n",
      " 0.71176471 0.69327731        nan        nan        nan        nan\n",
      " 0.82857143        nan 0.82885154        nan        nan 0.81820728\n",
      " 0.69467787        nan 0.82128852 0.78403361 0.81820728 0.6977591\n",
      " 0.81904762        nan 0.82857143        nan 0.82857143 0.82885154\n",
      " 0.70140056        nan 0.82857143        nan 0.82857143 0.82941176\n",
      "        nan 0.82857143 0.6929972         nan 0.81960784 0.82913165\n",
      " 0.6929972  0.78963585        nan 0.70308123        nan        nan\n",
      "        nan        nan        nan 0.82857143        nan 0.81820728\n",
      "        nan 0.81820728        nan        nan        nan        nan\n",
      " 0.82857143        nan 0.82941176 0.80868347        nan 0.78067227\n",
      "        nan 0.82885154 0.82857143 0.47142857        nan        nan\n",
      "        nan        nan 0.82857143 0.82689076        nan 0.81176471\n",
      " 0.69663866 0.82857143        nan 0.82016807 0.6977591         nan\n",
      " 0.47142857        nan 0.82857143 0.76162465        nan        nan\n",
      " 0.72072829        nan        nan 0.82212885        nan        nan\n",
      "        nan        nan 0.7047619         nan        nan        nan\n",
      "        nan 0.76946779 0.82184874        nan 0.8232493         nan\n",
      " 0.68515406 0.81092437        nan        nan 0.81904762        nan\n",
      " 0.81820728 0.82857143 0.81820728        nan        nan 0.82857143\n",
      " 0.82829132 0.82913165 0.81820728        nan 0.6837535  0.70028011\n",
      "        nan        nan 0.76946779        nan 0.68907563 0.81876751\n",
      " 0.82885154 0.68711485 0.68431373 0.81820728        nan 0.82857143\n",
      " 0.82913165        nan 0.81120448        nan 0.82857143        nan\n",
      " 0.71960784 0.82857143 0.81820728 0.82857143 0.70308123        nan\n",
      " 0.81820728 0.71232493 0.70308123 0.82857143        nan        nan\n",
      "        nan        nan 0.8302521  0.69719888 0.82044818        nan\n",
      "        nan        nan        nan 0.81540616        nan        nan\n",
      " 0.81820728 0.82885154 0.8232493         nan        nan 0.81988796\n",
      " 0.7837535         nan        nan 0.71148459        nan 0.81820728\n",
      " 0.81960784        nan 0.69831933        nan 0.82857143 0.69103641\n",
      " 0.81988796        nan        nan        nan 0.81820728 0.74369748\n",
      " 0.82857143 0.82380952 0.81820728 0.78011204        nan        nan\n",
      " 0.81820728        nan        nan 0.47142857 0.81820728 0.47142857\n",
      "        nan        nan        nan 0.82913165 0.81820728 0.82857143\n",
      "        nan 0.82885154 0.81820728        nan        nan 0.81820728\n",
      " 0.78459384        nan        nan        nan 0.6907563         nan\n",
      " 0.81820728        nan        nan        nan 0.7859944  0.82857143\n",
      " 0.82745098        nan 0.47142857 0.75182073        nan        nan\n",
      " 0.80168067 0.47142857 0.82857143 0.82857143        nan        nan\n",
      "        nan 0.82352941 0.82857143        nan 0.82885154        nan\n",
      " 0.82016807 0.69019608        nan        nan        nan 0.82857143\n",
      " 0.8140056         nan        nan 0.69159664        nan 0.70448179\n",
      "        nan 0.82857143        nan 0.47142857 0.69635854 0.81988796\n",
      " 0.82941176        nan 0.81568627 0.68963585        nan 0.80896359\n",
      " 0.81820728        nan 0.70280112        nan        nan 0.81820728\n",
      "        nan        nan 0.81708683 0.81484594 0.81932773        nan\n",
      " 0.81820728        nan 0.81820728 0.81988796        nan 0.71456583\n",
      "        nan        nan 0.69327731 0.69327731        nan        nan\n",
      "        nan 0.81820728        nan 0.82072829 0.7767507         nan\n",
      "        nan 0.81904762        nan        nan        nan 0.56498599\n",
      " 0.81820728        nan 0.82969188 0.81820728        nan 0.69719888\n",
      "        nan 0.82268908        nan 0.82661064 0.82857143 0.82268908\n",
      "        nan        nan 0.82885154 0.81820728        nan 0.76162465\n",
      "        nan 0.82016807 0.68935574 0.81820728 0.82913165 0.81008403\n",
      "        nan 0.69943978        nan 0.81820728 0.82857143 0.82857143\n",
      " 0.81820728 0.81820728 0.81820728        nan        nan 0.47142857\n",
      " 0.82857143        nan        nan        nan 0.82661064        nan\n",
      " 0.82436975        nan        nan        nan 0.70112045 0.70308123\n",
      " 0.82857143 0.82913165        nan 0.70588235 0.70448179 0.82997199\n",
      "        nan        nan 0.68963585 0.80084034 0.82857143 0.68543417\n",
      "        nan 0.81568627 0.76470588 0.81820728        nan 0.81120448\n",
      " 0.81820728 0.76918768 0.82408964        nan 0.82184874        nan\n",
      "        nan        nan        nan        nan        nan 0.80868347\n",
      "        nan 0.76526611        nan        nan 0.82885154        nan\n",
      "        nan        nan        nan 0.82857143        nan 0.82857143\n",
      " 0.81904762 0.75686275 0.82857143        nan        nan 0.82857143\n",
      " 0.47142857 0.69719888 0.8232493  0.70728291        nan        nan\n",
      " 0.6977591  0.47142857 0.6929972         nan        nan        nan\n",
      "        nan 0.69551821 0.82156863        nan 0.69467787 0.7070028\n",
      "        nan        nan 0.82913165        nan 0.69411765        nan\n",
      "        nan 0.81764706        nan        nan        nan        nan\n",
      " 0.68767507        nan        nan        nan        nan        nan\n",
      "        nan 0.82857143 0.75686275 0.76302521        nan 0.82857143\n",
      " 0.47142857 0.82857143        nan 0.82857143 0.7394958         nan\n",
      "        nan 0.82857143 0.72492997        nan        nan 0.74677871\n",
      "        nan        nan 0.82857143        nan 0.82857143        nan\n",
      "        nan 0.81820728        nan        nan        nan 0.82885154\n",
      " 0.82857143 0.81820728        nan        nan        nan        nan\n",
      "        nan 0.81260504 0.80588235        nan 0.78347339        nan\n",
      " 0.82857143        nan        nan 0.82156863        nan        nan\n",
      "        nan        nan 0.82885154        nan 0.82857143 0.81820728\n",
      " 0.81680672        nan 0.80448179        nan 0.82717087        nan\n",
      " 0.82857143        nan]\n",
      "  warnings.warn(\n"
     ]
    }
   ],
   "source": [
    "import pandas as pd\n",
    "from sklearn.metrics import accuracy_score\n",
    "from scipy.stats import loguniform\n",
    "from pandas import read_csv\n",
    "from sklearn.linear_model import LogisticRegression\n",
    "from sklearn.model_selection import RepeatedStratifiedKFold\n",
    "from sklearn.model_selection import RandomizedSearchCV\n",
    "data = pd.read_csv(\"ha.csv\")\n",
    "data.columns = ['age', 'sex', 'chest_pain_type', 'resting_blood_pressure', 'cholesterol', 'fasting_blood_sugar', 'rest_ecg', 'max_heart_rate_achieved',\n",
    "       'exercise_induced_angina', 'st_depression', 'st_slope','target']\n",
    "X = data.drop('target',axis=1)\n",
    "y = data['target']\n",
    "model = LogisticRegression()\n",
    "cv = RepeatedStratifiedKFold(n_splits=10, n_repeats=3, random_state=1)\n",
    "space = dict()\n",
    "space['solver'] = ['newton-cg', 'lbfgs', 'liblinear']\n",
    "space['penalty'] = ['none', 'l1', 'l2', 'elasticnet']\n",
    "space['C'] = loguniform(1e-5, 100)\n",
    "search = RandomizedSearchCV(model, space, n_iter=500, scoring='accuracy', n_jobs=-1, cv=cv, random_state=1)\n",
    "result = search.fit(X, y)\n",
    "# summarize result\n",
    "print('Best Score: %s' % result.best_score_)\n",
    "print('Best Hyperparameters: %s' % result.best_params_)"
   ]
  },
  {
   "cell_type": "code",
   "execution_count": 9,
   "metadata": {},
   "outputs": [
    {
     "name": "stdout",
     "output_type": "stream",
     "text": [
      "Accuracy: 79.83%\n"
     ]
    }
   ],
   "source": [
    "from sklearn.model_selection import train_test_split\n",
    "X_train, X_test, y_train, y_test = train_test_split(X, y, test_size=0.2, random_state=0)\n",
    "from sklearn.linear_model import LogisticRegression\n",
    "classifier = LogisticRegression(random_state = 0,C = 6.093249806997543, penalty = 'l2', solver= 'liblinear')\n",
    "classifier.fit(X_train, y_train)\n",
    "y_pred = classifier.predict(X_test)\n",
    "accuracy = accuracy_score(y_test, y_pred)\n",
    "print(\"Accuracy: %.2f%%\" % (accuracy * 100.0))"
   ]
  },
  {
   "cell_type": "code",
   "execution_count": 10,
   "metadata": {},
   "outputs": [
    {
     "name": "stdout",
     "output_type": "stream",
     "text": [
      "Accuracy: 79.41%\n"
     ]
    }
   ],
   "source": [
    "from sklearn.model_selection import train_test_split\n",
    "X_train, X_test, y_train, y_test = train_test_split(X, y, test_size=0.2, random_state=0)\n",
    "from sklearn.linear_model import LogisticRegression\n",
    "classifier = LogisticRegression(random_state = 0,C= 1.0, penalty= 'l2', solver= 'newton-cg')\n",
    "classifier.fit(X_train, y_train)\n",
    "y_pred = classifier.predict(X_test)\n",
    "accuracy = accuracy_score(y_test, y_pred)\n",
    "print(\"Accuracy: %.2f%%\" % (accuracy * 100.0))"
   ]
  },
  {
   "cell_type": "code",
   "execution_count": 14,
   "metadata": {},
   "outputs": [
    {
     "name": "stdout",
     "output_type": "stream",
     "text": [
      "93.69747899159664\n"
     ]
    }
   ],
   "source": [
    "import pandas as pd\n",
    "from sklearn.metrics import accuracy_score\n",
    "from scipy.stats import loguniform\n",
    "from pandas import read_csv\n",
    "from sklearn.linear_model import LogisticRegression\n",
    "from sklearn.model_selection import RepeatedStratifiedKFold\n",
    "from sklearn.model_selection import RandomizedSearchCV\n",
    "data = pd.read_csv(\"ha.csv\")\n",
    "data.columns = ['age', 'sex', 'chest_pain_type', 'resting_blood_pressure', 'cholesterol', 'fasting_blood_sugar', 'rest_ecg', 'max_heart_rate_achieved',\n",
    "       'exercise_induced_angina', 'st_depression', 'st_slope','target']\n",
    "X = data.drop('target',axis=1)\n",
    "y = data['target']\n",
    "from sklearn.model_selection import train_test_split\n",
    "X_train, X_test, y_train, y_test = train_test_split(X, y, test_size=0.2, random_state=0)\n",
    "from sklearn.ensemble import RandomForestClassifier\n",
    "classifier = RandomForestClassifier(max_features= 'log2', n_estimators = 1000)\n",
    "classifier.fit(X_train, y_train)\n",
    "from sklearn.metrics import accuracy_score\n",
    "threshold =0.450958\n",
    "predicted_proba = classifier.predict_proba(X_test)\n",
    "pr = (predicted_proba [:,1] >= threshold).astype('int')\n",
    "accuracy = accuracy_score(y_test, pr)\n",
    "print(accuracy*100)"
   ]
  },
  {
   "cell_type": "code",
   "execution_count": 15,
   "metadata": {},
   "outputs": [
    {
     "name": "stderr",
     "output_type": "stream",
     "text": [
      "/home/nisarga/anaconda3/lib/python3.8/site-packages/sklearn/model_selection/_search.py:922: UserWarning: One or more of the test scores are non-finite: [0.82857143 0.81820728        nan        nan        nan 0.47142857\n",
      " 0.68655462 0.68655462 0.68711485        nan        nan        nan\n",
      " 0.82857143 0.81820728        nan        nan        nan 0.47142857\n",
      " 0.70140056 0.70140056 0.70420168        nan        nan        nan\n",
      " 0.82857143 0.81820728        nan        nan        nan 0.68991597\n",
      " 0.74789916 0.74817927 0.74257703        nan        nan        nan\n",
      " 0.82857143 0.81820728        nan        nan        nan 0.76582633\n",
      " 0.80896359 0.80952381 0.80756303        nan        nan        nan\n",
      " 0.82857143 0.81820728        nan        nan        nan 0.81484594\n",
      " 0.82212885 0.81736695 0.81736695        nan        nan        nan\n",
      " 0.82857143 0.81820728        nan        nan        nan 0.82857143\n",
      " 0.82941176 0.81960784 0.82380952        nan        nan        nan\n",
      " 0.82857143 0.81820728        nan        nan        nan 0.82829132\n",
      " 0.82857143 0.81848739 0.82885154        nan        nan        nan\n",
      " 0.82857143 0.81820728        nan        nan        nan 0.82857143\n",
      " 0.82857143 0.81820728 0.82857143        nan        nan        nan]\n",
      "  warnings.warn(\n"
     ]
    },
    {
     "name": "stdout",
     "output_type": "stream",
     "text": [
      "Best Score: 0.8294117647058825\n",
      "Best Hyperparameters: {'C': 1, 'penalty': 'l2', 'solver': 'newton-cg'}\n"
     ]
    }
   ],
   "source": [
    "from pandas import read_csv\n",
    "from sklearn.linear_model import LogisticRegression\n",
    "from sklearn.model_selection import RepeatedStratifiedKFold\n",
    "from sklearn.model_selection import GridSearchCV\n",
    "# load dataset\n",
    "#url = 'https://raw.githubusercontent.com/jbrownlee/Datasets/master/sonar.csv'\n",
    "#ataframe = read_csv(url, header=None)\n",
    "# split into input and output elements\n",
    "#data = dataframe.values\n",
    "#X, y = data[:, :-1], data[:, -1]\n",
    "# define model\n",
    "model = LogisticRegression()\n",
    "# define evaluation\n",
    "cv = RepeatedStratifiedKFold(n_splits=10, n_repeats=3, random_state=1)\n",
    "# define search space\n",
    "space = dict()\n",
    "space['solver'] = ['newton-cg', 'lbfgs', 'liblinear']\n",
    "space['penalty'] = ['none', 'l1', 'l2', 'elasticnet']\n",
    "space['C'] = [1e-5, 1e-4, 1e-3, 1e-2, 1e-1, 1, 10, 100]\n",
    "# define search\n",
    "search = GridSearchCV(model, space, scoring='accuracy', n_jobs=-1, cv=cv)\n",
    "# execute search\n",
    "result = search.fit(X, y)\n",
    "# summarize result\n",
    "print('Best Score: %s' % result.best_score_)\n",
    "print('Best Hyperparameters: %s' % result.best_params_)"
   ]
  },
  {
   "cell_type": "code",
   "execution_count": null,
   "metadata": {},
   "outputs": [],
   "source": []
  }
 ],
 "metadata": {
  "kernelspec": {
   "display_name": "Python 3",
   "language": "python",
   "name": "python3"
  },
  "language_info": {
   "codemirror_mode": {
    "name": "ipython",
    "version": 3
   },
   "file_extension": ".py",
   "mimetype": "text/x-python",
   "name": "python",
   "nbconvert_exporter": "python",
   "pygments_lexer": "ipython3",
   "version": "3.8.3"
  }
 },
 "nbformat": 4,
 "nbformat_minor": 4
}
